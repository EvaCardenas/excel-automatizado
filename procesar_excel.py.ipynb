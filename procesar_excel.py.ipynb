{
 "cells": [
  {
   "cell_type": "code",
   "execution_count": 8,
   "id": "94950f97",
   "metadata": {},
   "outputs": [
    {
     "name": "stdout",
     "output_type": "stream",
     "text": [
      "Hojas disponibles en el archivo: ['Sheet1', 'Hoja1']\n",
      "\n",
      "✅ El DataFrame resultante tiene 2332 filas y 86 columnas.\n",
      "Primeras filas del DataFrame resultante:\n",
      "  CAMPANA     CITA   PEDIDO TIPO_CITA   MOTIVO_REPRO TIPO_VENTA  CODIGO_VENTA  \\\n",
      "0   ENTEL  4580955  4479803     REPRO  NO ESPECIFICA      OMNIX     791097337   \n",
      "1   ENTEL  4579665  4479269     REPRO  NO ESPECIFICA      OMNIX     791045349   \n",
      "2   ENTEL  4582942  4482566     REPRO  NO ESPECIFICA      OMNIX     791825355   \n",
      "3   ENTEL  4583449  4483206     REPRO  NO ESPECIFICA      OMNIX     791867618   \n",
      "4   ENTEL  4578322  4478016     REPRO  NO ESPECIFICA      OMNIX     790687629   \n",
      "\n",
      "  TIPO_DOCUMENTO NUMERO_DOCUMENTO                              CLIENTE  ...  \\\n",
      "0            DNI         47587644           LIDDA MAYELI NOEL NUÃ‘EZ    ...   \n",
      "1            DNI         07534450  CRISTHIAN HECTOR FERNANDEZ MERINO    ...   \n",
      "2             CE        007053820       FRANYELI QUINTERO VILLALOBOS    ...   \n",
      "3            DNI         71765957           JHONNY EDGAR SOTO MAMANI    ...   \n",
      "4            DNI         47589172     JHERSSON JACK VILLANES BALDEON    ...   \n",
      "\n",
      "   CUMPL_FECHA_PACTADA  SUB_AREA  MOTIVO TIPO_PRODUCTO  \\\n",
      "0              PACTADA  Postpago     NaN          CHIP   \n",
      "1              PACTADA  Postpago     NaN          CHIP   \n",
      "2              PACTADA  Postpago     NaN          CHIP   \n",
      "3              PACTADA  Postpago     NaN          CHIP   \n",
      "4              PACTADA  Postpago     NaN          CHIP   \n",
      "\n",
      "  FECHA_ULTIMO_MOVIMIENTO USUARIO_ULTIMO_MOVIMIENTO  \\\n",
      "0     2025-07-30 21:52:36                    agomez   \n",
      "1     2025-07-30 22:03:28                    agomez   \n",
      "2     2025-07-30 22:04:44                    agomez   \n",
      "3     2025-07-30 22:04:44                    agomez   \n",
      "4     2025-07-30 20:20:01                 mdelacruz   \n",
      "\n",
      "  FECHA_PRIMER_ESTADO_MOTORIZADO FECHA_ESTADO_MOTORIZADO  \\\n",
      "0            2025-07-29 11:58:17              07/30/2025   \n",
      "1            2025-07-29 12:40:34              07/30/2025   \n",
      "2            2025-07-30 09:50:50              07/30/2025   \n",
      "3            2025-07-30 12:31:25              07/30/2025   \n",
      "4            2025-07-26 19:16:04              07/30/2025   \n",
      "\n",
      "  HORA_ESTADO_MOTORIZADO          CANAL_COMERCIAL  \n",
      "0                  12:01  ONLINE PUBLICO - SOCIOS  \n",
      "1                  14:36                 OUTBOUND  \n",
      "2                  09:50           ONLINE PRIVADO  \n",
      "3                  12:31                 OUTBOUND  \n",
      "4                  20:02                 OUTBOUND  \n",
      "\n",
      "[5 rows x 86 columns]\n",
      "Hojas en el primer archivo:\n",
      "['Sheet1']\n",
      "\n",
      "Hojas en el segundo archivo:\n",
      "['Sheet1', 'Hoja1']\n"
     ]
    }
   ],
   "source": [
    "import pandas as pd\n",
    "\n",
    "# Cargar ambos archivos Excel\n",
    "archivo_excel_1 = pd.ExcelFile('C:\\\\Users\\\\PC\\\\Downloads\\\\df_merged_motorizado02.xlsx')\n",
    "archivo_excel_2 = pd.ExcelFile('C:\\\\Users\\PC\\\\Downloads\\\\30df_final_actualizado.xlsx')\n",
    "\n",
    "\n",
    "print(\"Hojas disponibles en el archivo:\", archivo_excel_2.sheet_names)\n",
    "\n",
    "# Cargar una hoja específica como DataFrame (por ejemplo, la primera)\n",
    "df_excel = archivo_excel_2.parse(archivo_excel_2.sheet_names[0])\n",
    "\n",
    "# Mostrar cantidad de filas y columnas\n",
    "print(f\"\\n✅ El DataFrame resultante tiene {df_excel.shape[0]} filas y {df_excel.shape[1]} columnas.\")\n",
    "print(\"Primeras filas del DataFrame resultante:\")\n",
    "print(df_excel.head())\n",
    "\n",
    "# Mostrar los nombres de las hojas de ambos archivos\n",
    "print(\"Hojas en el primer archivo:\")\n",
    "print(archivo_excel_1.sheet_names)\n",
    "\n",
    "print(\"\\nHojas en el segundo archivo:\")\n",
    "print(archivo_excel_2.sheet_names)\n"
   ]
  },
  {
   "cell_type": "code",
   "execution_count": null,
   "id": "c507a57b",
   "metadata": {},
   "outputs": [],
   "source": []
  }
 ],
 "metadata": {
  "kernelspec": {
   "display_name": "Python 3 (ipykernel)",
   "language": "python",
   "name": "python3"
  },
  "language_info": {
   "codemirror_mode": {
    "name": "ipython",
    "version": 3
   },
   "file_extension": ".py",
   "mimetype": "text/x-python",
   "name": "python",
   "nbconvert_exporter": "python",
   "pygments_lexer": "ipython3",
   "version": "3.10.9"
  }
 },
 "nbformat": 4,
 "nbformat_minor": 5
}
